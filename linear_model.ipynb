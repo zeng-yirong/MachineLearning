{
 "cells": [
  {
   "cell_type": "code",
   "execution_count": 3,
   "metadata": {},
   "outputs": [
    {
     "name": "stdout",
     "output_type": "stream",
     "text": [
      "[0.5 0.5] 2.220446049250313e-16\n"
     ]
    }
   ],
   "source": [
    "from sklearn import linear_model\n",
    "reg=linear_model.LinearRegression()\n",
    "x,y=[[0,0],[1,1],[2,2]],[0,1,2]\n",
    "reg.fit([[0,0],[1,1],[2,2]],[0,1,2])\n",
    "print(reg.coef_,reg.intercept_)"
   ]
  },
  {
   "cell_type": "code",
   "execution_count": 5,
   "metadata": {},
   "outputs": [
    {
     "name": "stdout",
     "output_type": "stream",
     "text": [
      "[0.22222222 0.22222222] -0.07777777777777772\n"
     ]
    }
   ],
   "source": [
    "reg=linear_model.Ridge(alpha=0.5)\n",
    "reg.fit([[0,0],[1,1],[2,2]],[0,.1,1])\n",
    "print(reg.coef_,reg.intercept_)"
   ]
  },
  {
   "cell_type": "code",
   "execution_count": 6,
   "metadata": {},
   "outputs": [
    {
     "name": "stdout",
     "output_type": "stream",
     "text": [
      "[0.49999993 0.49999993] 1.999994667656324e-07\n"
     ]
    }
   ],
   "source": [
    "from sklearn import linear_model\n",
    "x=[[0,0],[1,1],[2,2],[3,3]]\n",
    "y=[0,1,2,3]\n",
    "reg=linear_model.BayesianRidge()\n",
    "reg.fit(x,y)\n",
    "reg.predict([[1,0]])\n",
    "print(reg.coef_,reg.intercept_)"
   ]
  },
  {
   "cell_type": "code",
   "execution_count": 10,
   "metadata": {},
   "outputs": [
    {
     "name": "stdout",
     "output_type": "stream",
     "text": [
      "[[0.55547535 0.55547535]] [-0.28286781]\n",
      "[1]\n"
     ]
    }
   ],
   "source": [
    "from sklearn import linear_model\n",
    "x,y=[[0,0],[1,1],[2,2]],[0,1,1]\n",
    "clf=linear_model.LogisticRegression(solver=\"lbfgs\")\n",
    "clf.fit(x,y)\n",
    "print(clf.coef_,clf.intercept_)\n",
    "print(clf.predict([[0,1]]))"
   ]
  },
  {
   "cell_type": "code",
   "execution_count": 20,
   "metadata": {},
   "outputs": [
    {
     "name": "stdout",
     "output_type": "stream",
     "text": [
      "[[ 1.  0.  1.  0.  0.  1.]\n",
      " [ 1.  2.  3.  4.  6.  9.]\n",
      " [ 1.  4.  5. 16. 20. 25.]]\n",
      "[[-7.21644966e-16 -3.34473584e-02 -3.34473584e-02 -2.47054352e-02\n",
      "  -5.81527936e-02 -9.16001520e-02  1.19346256e-01  9.46408210e-02\n",
      "   3.64880274e-02 -5.51121247e-02]\n",
      " [ 4.85722573e-16  2.55922970e-02  2.55922970e-02  2.64791587e-02\n",
      "   5.20714557e-02  7.76637527e-02 -4.58634233e-02 -1.93842645e-02\n",
      "   3.26871912e-02  1.10350944e-01]]\n",
      "[[ 3.  2.]\n",
      " [ 3.  6.]\n",
      " [11. 18.]]\n"
     ]
    },
    {
     "data": {
      "text/plain": [
       "(array([[0, 1],\n",
       "        [2, 3],\n",
       "        [4, 5]]),\n",
       " array([[ 3,  2],\n",
       "        [ 3,  6],\n",
       "        [11, 18]]))"
      ]
     },
     "execution_count": 20,
     "metadata": {},
     "output_type": "execute_result"
    }
   ],
   "source": [
    "from sklearn.preprocessing import PolynomialFeatures\n",
    "import numpy as np\n",
    "from sklearn.pipeline import Pipeline\n",
    "from sklearn.linear_model import LinearRegression\n",
    "x=np.arange(6).reshape(3,2)\n",
    "poly=PolynomialFeatures(degree=2)\n",
    "print(poly.fit_transform(x) )\n",
    "model=Pipeline([('poly',PolynomialFeatures(degree=3)),('linear',LinearRegression())])\n",
    "# x=np.arange(5)\n",
    "y=3-2*x+x**2\n",
    "# model=model.fit(x[:,np.newaxis],y)\n",
    "model=model.fit(x,y)\n",
    "print(model.named_steps['linear'].coef_)\n",
    "print(model.predict(x) )\n",
    "# x,y"
   ]
  },
  {
   "cell_type": "code",
   "execution_count": 2,
   "metadata": {},
   "outputs": [
    {
     "data": {
      "text/plain": [
       "array([-0.65660846,  0.61070686,  0.44539645,  0.1397098 ,  0.20998279,\n",
       "       -0.0651782 ,  0.18193287, -0.02559408, -0.20882512, -0.19072676])"
      ]
     },
     "execution_count": 2,
     "metadata": {},
     "output_type": "execute_result"
    }
   ],
   "source": [
    "from sklearn.kernel_ridge import KernelRidge\n",
    "import numpy as np\n",
    "n_samples,n_features=10,5\n",
    "x,y=np.random.randn(n_samples,n_features),np.random.randn(n_samples)\n",
    "clf=KernelRidge(alpha=1.0)\n",
    "clf.fit(x,y).predict(x)"
   ]
  },
  {
   "cell_type": "code",
   "execution_count": 3,
   "metadata": {},
   "outputs": [
    {
     "name": "stdout",
     "output_type": "stream",
     "text": [
      "[[0. 1.]\n",
      " [1. 1.]] [0 1] [1 1]\n",
      "[-0.93051655  0.93051655]\n"
     ]
    }
   ],
   "source": [
    "from sklearn import svm\n",
    "X=[[0,1],[1,1]]\n",
    "y=[0,1]\n",
    "clf=svm.SVC(gamma=\"scale\",kernel='linear')\n",
    "clf.fit(X,y).predict([[2,2]])\n",
    "print(clf.support_vectors_,clf.support_,clf.n_support_)\n",
    "print(clf.decision_function([[0,1],[1,1]]))"
   ]
  },
  {
   "cell_type": "code",
   "execution_count": 5,
   "metadata": {},
   "outputs": [
    {
     "data": {
      "text/plain": [
       "array([1.5])"
      ]
     },
     "execution_count": 5,
     "metadata": {},
     "output_type": "execute_result"
    }
   ],
   "source": [
    "from sklearn import svm\n",
    "X=[[0,0],[2,2]]\n",
    "y=[0.5,2.5]\n",
    "clf=svm.SVR()\n",
    "clf.fit(X,y).predict([[1,1]])"
   ]
  },
  {
   "cell_type": "code",
   "execution_count": 7,
   "metadata": {},
   "outputs": [
    {
     "data": {
      "text/plain": [
       "array([[-1.,  1.],\n",
       "       [ 1., -1.]])"
      ]
     },
     "execution_count": 7,
     "metadata": {},
     "output_type": "execute_result"
    }
   ],
   "source": [
    "from sklearn.preprocessing import StandardScaler\n",
    "scaler=StandardScaler()\n",
    "scaler.fit_transform([[0,20],[22,2]])\n",
    "# X_train=scaler.transform(X_train)\n",
    "# X_test=scaler.transform()"
   ]
  }
 ],
 "metadata": {
  "interpreter": {
   "hash": "0b393b55cb1321726d4bcde5a586ab0013f66895230a2d3797d87e650d3ea190"
  },
  "kernelspec": {
   "display_name": "Python 3.7.11 64-bit ('torch1.7': conda)",
   "language": "python",
   "name": "python3"
  },
  "language_info": {
   "codemirror_mode": {
    "name": "ipython",
    "version": 3
   },
   "file_extension": ".py",
   "mimetype": "text/x-python",
   "name": "python",
   "nbconvert_exporter": "python",
   "pygments_lexer": "ipython3",
   "version": "3.7.11"
  },
  "orig_nbformat": 4
 },
 "nbformat": 4,
 "nbformat_minor": 2
}
