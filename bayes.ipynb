{
 "cells": [
  {
   "cell_type": "code",
   "execution_count": 5,
   "metadata": {},
   "outputs": [
    {
     "name": "stdout",
     "output_type": "stream",
     "text": [
      "[0 0 0 0 0 0 0 0 0 0 0 0 0 0 0 0 0 0 0 0 0 0 0 0 0 0 0 0 0 0 0 0 0 0 0 0 0\n",
      " 0 0 0 0 0 0 0 0 0 0 0 0 0 1 1 1 1 1 1 1 1 1 1 1 1 1 1 1 1 1 1 1 1 1 1 1 1\n",
      " 1 1 1 1 1 1 1 1 1 1 1 1 1 1 1 1 1 1 1 1 1 1 1 1 1 1 2 2 2 2 2 2 2 2 2 2 2\n",
      " 2 2 2 2 2 2 2 2 2 2 2 2 2 2 2 2 2 2 2 2 2 2 2 2 2 2 2 2 2 2 2 2 2 2 2 2 2\n",
      " 2 2]\n",
      "[0 0 0 0 0 0 0 0 0 0 0 0 0 0 0 0 0 0 0 0 0 0 0 0 0 0 0 0 0 0 0 0 0 0 0 0 0\n",
      " 0 0 0 0 0 0 0 0 0 0 0 0 0 2 2 2 2 2 2 2 2 2 2 2 2 2 2 2 2 2 2 2 2 2 2 2 2\n",
      " 2 2 2 2 2 0 2 2 2 2 2 2 2 2 2 2 2 2 2 2 2 2 2 2 0 2 2 2 2 2 2 2 2 2 2 2 2\n",
      " 2 2 2 2 2 2 2 2 2 2 2 2 2 2 2 2 2 2 2 2 2 2 2 2 2 2 2 2 2 2 2 2 2 2 2 2 2\n",
      " 2 2]\n",
      "50\n"
     ]
    }
   ],
   "source": [
    "from sklearn import datasets\n",
    "iris=datasets.load_iris()\n",
    "from sklearn.naive_bayes import GaussianNB,MultinomialNB,ComplementNB\n",
    "gnb=GaussianNB()\n",
    "y_gnb=gnb.fit(iris.data,iris.target).predict(iris.data)\n",
    "print(iris.target,y_gnb,(iris.target!=y_gnb).sum(),sep='\\n' )\n",
    "mnb=MultinomialNB()\n",
    "y_mnb=mnb.fit(iris.data,iris.target).predict(iris.data)\n",
    "print(iris.target,y_mnb,(iris.target!=y_mnb).sum(),sep='\\n' )\n",
    "# cnb=ComplementNB()\n",
    "# y_cnb=cnb.fit(iris.data,iris.target).predict(iris.data)\n",
    "# print(iris.target,y_cnb,(iris.target!=y_cnb).sum(),sep='\\n' )\n"
   ]
  },
  {
   "cell_type": "code",
   "execution_count": 6,
   "metadata": {},
   "outputs": [
    {
     "name": "stdout",
     "output_type": "stream",
     "text": [
      "[1 2 3 4 5 6]\n",
      "[1 2 3 4 5 6]\n"
     ]
    }
   ],
   "source": [
    "from sklearn import naive_bayes\n",
    "dir(naive_bayes)\n",
    "import numpy as np\n",
    "np.random.seed(42)\n",
    "X=np.random.randint(5,size=(6,100))\n",
    "y=np.array([1,2,3,4,5,6])\n",
    "from sklearn.naive_bayes import ComplementNB\n",
    "clf=ComplementNB()\n",
    "clf.fit(X,y)\n",
    "print(y,clf.predict(X),sep='\\n')"
   ]
  }
 ],
 "metadata": {
  "interpreter": {
   "hash": "e85cec4e606c3e4a94987bafc8b2111041ebde73de75902ed4828bfcb4167b1d"
  },
  "kernelspec": {
   "display_name": "Python 3.7.11 ('t181cu111': conda)",
   "language": "python",
   "name": "python3"
  },
  "language_info": {
   "codemirror_mode": {
    "name": "ipython",
    "version": 3
   },
   "file_extension": ".py",
   "mimetype": "text/x-python",
   "name": "python",
   "nbconvert_exporter": "python",
   "pygments_lexer": "ipython3",
   "version": "3.7.11"
  },
  "orig_nbformat": 4
 },
 "nbformat": 4,
 "nbformat_minor": 2
}
