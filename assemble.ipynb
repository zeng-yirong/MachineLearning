{
 "cells": [
  {
   "cell_type": "code",
   "execution_count": 2,
   "metadata": {},
   "outputs": [
    {
     "name": "stdout",
     "output_type": "stream",
     "text": [
      "hello world\n",
      "this is a test\n"
     ]
    }
   ],
   "source": [
    "# todo tag next\n",
    "print('hello world')\n",
    "print(\"this is a test\")"
   ]
  }
 ],
 "metadata": {
  "interpreter": {
   "hash": "e85cec4e606c3e4a94987bafc8b2111041ebde73de75902ed4828bfcb4167b1d"
  },
  "kernelspec": {
   "display_name": "Python 3.7.7 ('t181cu111': conda)",
   "language": "python",
   "name": "python3"
  },
  "language_info": {
   "codemirror_mode": {
    "name": "ipython",
    "version": 3
   },
   "file_extension": ".py",
   "mimetype": "text/x-python",
   "name": "python",
   "nbconvert_exporter": "python",
   "pygments_lexer": "ipython3",
   "version": "3.7.7"
  },
  "orig_nbformat": 4
 },
 "nbformat": 4,
 "nbformat_minor": 2
}
